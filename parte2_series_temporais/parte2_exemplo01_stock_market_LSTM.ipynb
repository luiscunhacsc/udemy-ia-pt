{
  "cells": [
    {
      "cell_type": "markdown",
      "metadata": {
        "id": "yfRGAymdTmBA"
      },
      "source": [
        "---\n",
        "# **Predicting stock market index using LSTM (N-day window)**\n",
        "\n",
        "**Disclaimer**: Originally based on work by Hum Nath Bhandari, Binod Rimal, Nawa Raj Pokhrel, Ramchandra Rimal, Keshav Dahal, and Rajendra K.C. Khatri\n",
        "\n",
        "**Reference**: Bhandari, H. N., Rimal, B., Pokhrel, N. R., Rimal, R., Dahal, K., & K C Khatri, R. (2022). Predicting stock market index using LSTM. Machine Learning with Applications, 9, 100320. https://doi.org/10.1016/j.mlwa.2022.100320\n",
        "\n",
        "---"
      ]
    },
    {
      "cell_type": "markdown",
      "metadata": {
        "id": "0m5kjGJtGNbQ"
      },
      "source": [
        "## **Introduction**\n",
        "\n",
        "In this module we use various financial resources to create input data for our machine learning models. This includes the following data.\n",
        "- S\\&P 500 index data: Close price\n",
        "- Vix index\n",
        "- Interest Rate\n",
        "- Unemployment Rate\n",
        "- Consumer sentiment index\n",
        "- Dollar Index\n",
        "- MACD\n",
        "- RSI\n",
        "- ATR"
      ]
    },
    {
      "cell_type": "markdown",
      "metadata": {
        "id": "qslJPz0stUXI"
      },
      "source": [
        "#### **0. Define the number of days in the series**"
      ]
    },
    {
      "cell_type": "code",
      "execution_count": null,
      "metadata": {
        "id": "X43RyK4mtUXJ"
      },
      "outputs": [],
      "source": [
        "# Number of days in the sequence (e.g. 5, 21, 90)\n",
        "Nd=21"
      ]
    },
    {
      "cell_type": "markdown",
      "metadata": {
        "id": "DqXKpN9QjM0H"
      },
      "source": [
        "#### **1. Importing basic libraries and APIs**"
      ]
    },
    {
      "cell_type": "code",
      "execution_count": null,
      "metadata": {
        "id": "WqxVeoCuX3mS",
        "outputId": "77a399f8-fdb2-44ce-bfd2-fde691d17bad"
      },
      "outputs": [
        {
          "ename": "ModuleNotFoundError",
          "evalue": "No module named 'pandas'",
          "output_type": "error",
          "traceback": [
            "\u001b[1;31m---------------------------------------------------------------------------\u001b[0m",
            "\u001b[1;31mModuleNotFoundError\u001b[0m                       Traceback (most recent call last)",
            "\u001b[1;32m<ipython-input-3-410a1c3a5bcb>\u001b[0m in \u001b[0;36m<module>\u001b[1;34m\u001b[0m\n\u001b[1;32m----> 1\u001b[1;33m \u001b[1;32mimport\u001b[0m \u001b[0mpandas\u001b[0m \u001b[1;32mas\u001b[0m \u001b[0mpd\u001b[0m\u001b[1;33m\u001b[0m\u001b[0m\n\u001b[0m\u001b[0;32m      2\u001b[0m \u001b[1;32mimport\u001b[0m \u001b[0mnumpy\u001b[0m \u001b[1;32mas\u001b[0m \u001b[0mnp\u001b[0m\u001b[1;33m\u001b[0m\u001b[0m\n\u001b[0;32m      3\u001b[0m \u001b[1;32mimport\u001b[0m \u001b[0mmath\u001b[0m\u001b[1;33m\u001b[0m\u001b[0m\n\u001b[0;32m      4\u001b[0m \u001b[1;32mimport\u001b[0m \u001b[0mmatplotlib\u001b[0m\u001b[1;33m.\u001b[0m\u001b[0mpyplot\u001b[0m \u001b[1;32mas\u001b[0m \u001b[0mplt\u001b[0m\u001b[1;33m\u001b[0m\u001b[0m\n\u001b[0;32m      5\u001b[0m \u001b[1;33m\u001b[0m\u001b[0m\n",
            "\u001b[1;31mModuleNotFoundError\u001b[0m: No module named 'pandas'"
          ]
        }
      ],
      "source": [
        "\n",
        "# Mathematical library\n",
        "import math\n",
        "\n",
        "# Data manipulation libraries\n",
        "import numpy as np\n",
        "import pandas as pd\n",
        "\n",
        "# Machine learning libraries\n",
        "from sklearn.model_selection import train_test_split\n",
        "from sklearn.preprocessing import MinMaxScaler\n",
        "import tensorflow as tf\n",
        "from tensorflow.keras.layers import Input, LSTM, Dense\n",
        "from tensorflow.keras.models import Model\n",
        "from tensorflow.keras.optimizers import Adam\n",
        "\n",
        "# Visualization libraries\n",
        "import matplotlib.pyplot as plt\n",
        "import seaborn as sns\n",
        "sns.set_theme(style=\"whitegrid\")\n",
        "plt.style.use('ggplot')\n",
        "\n",
        "# Utility libraries\n",
        "import warnings\n",
        "warnings.filterwarnings('ignore')\n",
        "import os\n",
        "import datetime as dt\n"
      ]
    },
    {
      "cell_type": "markdown",
      "metadata": {
        "id": "i_LPCy1qtUXK"
      },
      "source": [
        "#### **1. Data Loading and Verification**"
      ]
    },
    {
      "cell_type": "markdown",
      "metadata": {
        "id": "o-0dsDrzEaeM"
      },
      "source": [
        "##### **1.1 Loading input data**\n",
        "\n"
      ]
    },
    {
      "cell_type": "code",
      "execution_count": null,
      "metadata": {
        "id": "w6Su9vxu28HO"
      },
      "outputs": [],
      "source": [
        "url = 'https://raw.githubusercontent.com/luiscunhacsc/course_dl_datasets/main/sp500_data.csv'\n",
        "data = pd.read_csv(url)\n",
        "\n",
        "data['Date']=pd.to_datetime(data['Date']).dt.date\n",
        "data.set_index(\"Date\",inplace=True)\n",
        "data = data.iloc[:, 1:]\n",
        "\n"
      ]
    },
    {
      "cell_type": "markdown",
      "metadata": {
        "id": "e5EWNJs65Ecs"
      },
      "source": [
        "##### **1.2 Data Exploration**"
      ]
    },
    {
      "cell_type": "code",
      "execution_count": null,
      "metadata": {
        "id": "lpHdLNaUvDja"
      },
      "outputs": [],
      "source": [
        "# Textual verification of the data\n",
        "data.head()\n",
        "data.tail()\n",
        "print(data.shape)\n",
        "data.describe()"
      ]
    },
    {
      "cell_type": "code",
      "execution_count": null,
      "metadata": {
        "id": "EIVKYEZm5Di2"
      },
      "outputs": [],
      "source": [
        "# Graphical verification of the data\n",
        "df = data.copy()\n",
        "df['MA_50'] = df['Close'].rolling(50).mean()\n",
        "df['MA_200'] = df['Close'].rolling(200).mean()\n",
        "\n",
        "fig = plt.figure(figsize=(10,5))\n",
        "fig.set(facecolor = \"white\")\n",
        "plt.plot(df['Close'], 'mediumblue',label=['S&P 500 Close Price'], linewidth = 2.2)\n",
        "plt.plot(df['MA_50'],'red', label=['50-day MA'], linewidth = 2.2)\n",
        "plt.plot(df['MA_200'],'darkgreen', label=['200-day MA'], linewidth = 2.2)\n",
        "plt.legend(['S&P 500 Close Price', '50-day Moving Average', '200-day Moving Average'], loc='upper left')\n",
        "plt.title('')\n",
        "plt.xlabel('Time (years)')\n",
        "plt.ylabel('Close price')\n",
        "#fig.savefig(output_dir_path+ \"original_data_plus_moving_averages.png\",dpi=600)\n",
        "plt.show()"
      ]
    },
    {
      "cell_type": "markdown",
      "metadata": {
        "id": "y-Vap-SkxQjy"
      },
      "source": [
        "#####  **1.3 Correlation heatmap**"
      ]
    },
    {
      "cell_type": "code",
      "execution_count": null,
      "metadata": {
        "id": "qACPoxnPiNSC"
      },
      "outputs": [],
      "source": [
        "fig = plt.figure(figsize= (10,5))\n",
        "sns.heatmap(data.corr(), annot=True)\n",
        "sns.set_style(\"whitegrid\")\n",
        "#fig.savefig(output_dir_path+\"correlation_heatmap2.png\",dpi=600)\n",
        "plt.show()"
      ]
    },
    {
      "cell_type": "code",
      "execution_count": null,
      "metadata": {
        "id": "pcaukJvvNTPN"
      },
      "outputs": [],
      "source": [
        "fig = plt.figure(figsize = (20, 12))\n",
        "data.plot(subplots = True, figsize = (12,10),grid=False)\n",
        "sns.set_style(\"whitegrid\")\n",
        "#fig.savefig(output_dir_path+\"timeseries.png\",dpi=600)\n",
        "plt.show()"
      ]
    },
    {
      "cell_type": "markdown",
      "metadata": {
        "id": "VtXXapUA95qG"
      },
      "source": [
        "#### **2. Prepare the data for the LSTM model - don't forget to set number of days (Nd) in step 0, above**"
      ]
    },
    {
      "cell_type": "code",
      "execution_count": null,
      "metadata": {
        "id": "JGKKOpf4VDFQ"
      },
      "outputs": [],
      "source": [
        "\n",
        "# Store date information for plotting\n",
        "dates = data.index\n",
        "\n",
        "# Scale the data\n",
        "scaler = MinMaxScaler()\n",
        "data_scaled = scaler.fit_transform(data)\n",
        "\n",
        "# Define a function to create sequences of input data and labels\n",
        "def create_sequences(data, sequence_length, target_column):\n",
        "    x, y = [], []\n",
        "    for i in range(len(data) - sequence_length - 1):\n",
        "        x.append(data[i: i + sequence_length])\n",
        "        y.append(data[i + sequence_length, target_column])\n",
        "    return np.array(x), np.array(y)\n",
        "\n",
        "# Create input sequences and labels\n",
        "sequence_length = Nd  # Nd is the number of days in the sequence, to predict next day's (Nd+1) closing price   <--- \"Nd\" defined at the beginning of the script (step 0)\n",
        "target_column = 0  # Assuming 'Close' is the first column in the dataset\n",
        "x, y = create_sequences(data_scaled, sequence_length, target_column)\n",
        "\n",
        "# Split the data into train and test sets\n",
        "x_train, x_test, y_train, y_test = train_test_split(\n",
        "    x, y, test_size=0.20, shuffle=False)\n"
      ]
    },
    {
      "cell_type": "markdown",
      "metadata": {
        "id": "iOmPgkZLtUXO"
      },
      "source": [
        "#### **3. Define the LSTM model**"
      ]
    },
    {
      "cell_type": "code",
      "execution_count": null,
      "metadata": {
        "id": "_0p9e-_jVDFR"
      },
      "outputs": [],
      "source": [
        "input_layer = Input(shape=(sequence_length, data.shape[1]))\n",
        "lstm_layer = LSTM(150)(input_layer)\n",
        "output_layer = Dense(1)(lstm_layer)\n",
        "\n",
        "model = Model(inputs=input_layer, outputs=output_layer)"
      ]
    },
    {
      "cell_type": "markdown",
      "metadata": {
        "id": "_JkCLGK5tUXO"
      },
      "source": [
        "#### **4. Compile and train the model**"
      ]
    },
    {
      "cell_type": "code",
      "execution_count": null,
      "metadata": {
        "colab": {
          "base_uri": "https://localhost:8080/"
        },
        "id": "KjuKh0wXVDFR",
        "outputId": "43e3d9a3-685f-41d4-a785-ac35bfaf8809"
      },
      "outputs": [
        {
          "name": "stdout",
          "output_type": "stream",
          "text": [
            "Epoch 1/50\n",
            "863/863 [==============================] - 22s 21ms/step - loss: 4.9936e-04\n",
            "Epoch 2/50\n",
            "863/863 [==============================] - 17s 20ms/step - loss: 3.6266e-05\n",
            "Epoch 3/50\n",
            "863/863 [==============================] - 18s 21ms/step - loss: 3.7898e-05\n",
            "Epoch 4/50\n",
            "863/863 [==============================] - 17s 20ms/step - loss: 3.0718e-05\n",
            "Epoch 5/50\n",
            "863/863 [==============================] - 17s 20ms/step - loss: 2.7502e-05\n",
            "Epoch 6/50\n",
            "863/863 [==============================] - 21s 24ms/step - loss: 2.8578e-05\n",
            "Epoch 7/50\n",
            "863/863 [==============================] - 17s 20ms/step - loss: 1.8668e-05\n",
            "Epoch 8/50\n",
            "863/863 [==============================] - 18s 21ms/step - loss: 2.2005e-05\n",
            "Epoch 9/50\n",
            "863/863 [==============================] - 17s 20ms/step - loss: 2.1363e-05\n",
            "Epoch 10/50\n",
            "863/863 [==============================] - 17s 19ms/step - loss: 1.9589e-05\n",
            "Epoch 11/50\n",
            "863/863 [==============================] - 18s 21ms/step - loss: 1.7108e-05\n",
            "Epoch 12/50\n",
            "863/863 [==============================] - 17s 20ms/step - loss: 1.8061e-05\n",
            "Epoch 13/50\n",
            "863/863 [==============================] - 18s 20ms/step - loss: 1.6246e-05\n",
            "Epoch 14/50\n",
            "863/863 [==============================] - 18s 20ms/step - loss: 1.4388e-05\n",
            "Epoch 15/50\n",
            "863/863 [==============================] - 17s 20ms/step - loss: 1.5654e-05\n",
            "Epoch 16/50\n",
            "863/863 [==============================] - 18s 21ms/step - loss: 1.4145e-05\n",
            "Epoch 17/50\n",
            "863/863 [==============================] - 17s 20ms/step - loss: 1.4188e-05\n",
            "Epoch 18/50\n",
            "863/863 [==============================] - 17s 20ms/step - loss: 1.4032e-05\n",
            "Epoch 19/50\n",
            "863/863 [==============================] - 18s 21ms/step - loss: 1.3609e-05\n",
            "Epoch 20/50\n",
            "863/863 [==============================] - 27s 32ms/step - loss: 1.4018e-05\n",
            "Epoch 21/50\n",
            "700/863 [=======================>......] - ETA: 3s - loss: 1.2557e-05"
          ]
        }
      ],
      "source": [
        "optimizer = Adam(learning_rate=0.001)\n",
        "model.compile(optimizer=optimizer, loss=\"mean_squared_error\")\n",
        "\n",
        "batch_size = 8\n",
        "epochs = 50  # Adjust the number of epochs according to your needs\n",
        "model.fit(x_train, y_train, batch_size=batch_size, epochs=epochs)"
      ]
    },
    {
      "cell_type": "markdown",
      "metadata": {
        "id": "TCTiZfIctUXO"
      },
      "source": [
        "#### **5. Make predictions using the trained model**"
      ]
    },
    {
      "cell_type": "code",
      "execution_count": null,
      "metadata": {
        "id": "pEEukMuDVDFR"
      },
      "outputs": [],
      "source": [
        "y_train_pred = model.predict(x_train)\n",
        "y_test_pred = model.predict(x_test)"
      ]
    },
    {
      "cell_type": "markdown",
      "metadata": {
        "id": "_Bf4VWYitUXP"
      },
      "source": [
        "#### **6. Trasform data back to original scale**"
      ]
    },
    {
      "cell_type": "code",
      "execution_count": null,
      "metadata": {
        "id": "9iLSwKi1tUXP"
      },
      "outputs": [],
      "source": [
        "# Inverse-transform the scaled data back to the original scale\n",
        "y_train_true = scaler.inverse_transform(np.hstack(\n",
        "    (y_train.reshape(-1, 1), np.zeros((y_train.shape[0], data.shape[1] - 1)))))\n",
        "y_test_true = scaler.inverse_transform(np.hstack(\n",
        "    (y_test.reshape(-1, 1), np.zeros((y_test.shape[0], data.shape[1] - 1)))))\n",
        "y_train_pred = scaler.inverse_transform(np.hstack(\n",
        "    (y_train_pred, np.zeros((y_train_pred.shape[0], data.shape[1] - 1)))))\n",
        "y_test_pred = scaler.inverse_transform(\n",
        "    np.hstack((y_test_pred, np.zeros((y_test_pred.shape[0], data.shape[1] - 1)))))\n",
        "\n",
        "\n"
      ]
    },
    {
      "cell_type": "markdown",
      "metadata": {
        "id": "cU5rrEfmtUXP"
      },
      "source": [
        "#### **7. Plot *all* the historical data, including predictions at the end**"
      ]
    },
    {
      "cell_type": "code",
      "execution_count": null,
      "metadata": {
        "id": "DUJe86B7tUXP"
      },
      "outputs": [],
      "source": [
        "plt.figure(figsize=(12, 6))\n",
        "plt.plot(dates, data['Close'], label='True Values', color='blue')\n",
        "plt.plot(dates[sequence_length:len(y_train) + sequence_length],\n",
        "         y_train_pred[:, 0], label='Train Predictions', color='green')\n",
        "plt.plot(dates[len(y_train) + sequence_length:len(y_train) + len(y_test) +\n",
        "         sequence_length], y_test_pred[:, 0], label='Test Predictions', color='red')\n",
        "plt.xlabel('Date')\n",
        "plt.ylabel('Close Price')\n",
        "plt.legend()\n",
        "plt.show()\n"
      ]
    },
    {
      "cell_type": "markdown",
      "metadata": {
        "id": "eoIft48_tUXQ"
      },
      "source": [
        "#### **8. Plot *only* the end of the series, containing the predictions**"
      ]
    },
    {
      "cell_type": "code",
      "execution_count": null,
      "metadata": {
        "id": "JMeFrW2gtUXQ"
      },
      "outputs": [],
      "source": [
        "# Plot only the true values and test predictions\n",
        "plt.figure(figsize=(12, 6))\n",
        "plt.plot(dates[len(y_train) + sequence_length:], data['Close'][len(y_train) + sequence_length:], label='True Values (Test)', color='blue')\n",
        "plt.plot(dates[len(y_train) + sequence_length:len(y_train) + len(y_test) + sequence_length], y_test_pred[:, 0], label='Test Predictions', color='red')\n",
        "plt.xlabel('Date')\n",
        "plt.ylabel('Close Price')\n",
        "plt.legend()\n",
        "plt.show()\n"
      ]
    }
  ],
  "metadata": {
    "accelerator": "GPU",
    "colab": {
      "gpuType": "T4",
      "include_colab_link": true,
      "name": "Predicting_stock_market_index_using_LSTM_Code.ipynb",
      "provenance": []
    },
    "kernelspec": {
      "display_name": "Python 3",
      "name": "python3"
    },
    "language_info": {
      "codemirror_mode": {
        "name": "ipython",
        "version": 3
      },
      "file_extension": ".py",
      "mimetype": "text/x-python",
      "name": "python",
      "nbconvert_exporter": "python",
      "pygments_lexer": "ipython3",
      "version": "3.6.2"
    }
  },
  "nbformat": 4,
  "nbformat_minor": 0
}
