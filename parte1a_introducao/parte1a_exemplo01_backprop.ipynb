{
  "cells": [
    {
      "cell_type": "markdown",
      "metadata": {
        "id": "view-in-github",
        "colab_type": "text"
      },
      "source": [
        "<a href=\"https://colab.research.google.com/github/luiscunhacsc/udemy-ia-pt/blob/main/parte1a_introducao/parte1a_exemplo01_backprop.ipynb\" target=\"_parent\"><img src=\"https://colab.research.google.com/assets/colab-badge.svg\" alt=\"Open In Colab\"/></a>"
      ]
    },
    {
      "cell_type": "code",
      "execution_count": null,
      "id": "732c0a78",
      "metadata": {
        "id": "732c0a78"
      },
      "outputs": [],
      "source": [
        "import numpy as np\n",
        "\n",
        "# Função de ativação sigmóide e sua derivada\n",
        "def sigmoid(x):\n",
        "    return 1 / (1 + np.exp(-x))\n",
        "\n",
        "def sigmoid_derivative(x):\n",
        "    return x * (1 - x)\n"
      ]
    },
    {
      "cell_type": "code",
      "execution_count": null,
      "id": "83b612ed",
      "metadata": {
        "id": "83b612ed"
      },
      "outputs": [],
      "source": [
        "# Define os inputs da rede\n",
        "inputs = np.array([0.5, 0.9, -0.3])\n",
        "\n",
        "# Define os outputs esperados da rede\n",
        "expected_output = np.array([0.9, 0.3])\n",
        "\n",
        "# Pesos das camadas, fornecidos pelo diagrama\n",
        "weights_hidden = np.array([[1.0, -2.0, 2.0],   # Pesos para H1\n",
        "                           [2.0, 1.0, -4.0],   # Pesos para H2\n",
        "                           [1.0, -1.0, 0.0]])  # Pesos para H3\n",
        "\n",
        "weights_output = np.array([[-3.0, 1.0, -3.0],  # Pesos para O1\n",
        "                           [0.0, 1.0, 2.0]])   # Pesos para O2\n",
        "\n",
        "# Define a taxa de aprendizagem\n",
        "learning_rate = 0.1\n",
        "\n",
        "# Define o número de épocas\n",
        "epochs = 1000\n"
      ]
    },
    {
      "cell_type": "code",
      "execution_count": null,
      "id": "f95f7b7f",
      "metadata": {
        "id": "f95f7b7f",
        "outputId": "74bd157d-7ac2-4f7f-f066-a037f04cee39"
      },
      "outputs": [
        {
          "name": "stdout",
          "output_type": "stream",
          "text": [
            "Epoch 0, Loss: 0.5536539230807526\n",
            "Epoch 100, Loss: 0.27405236842392033\n",
            "Epoch 200, Loss: 0.1486081211647699\n",
            "Epoch 300, Loss: 0.08981219934418389\n",
            "Epoch 400, Loss: 0.05961834846873473\n",
            "Epoch 500, Loss: 0.04229008411086435\n",
            "Epoch 600, Loss: 0.031499308801573256\n",
            "Epoch 700, Loss: 0.024373551351039024\n",
            "Epoch 800, Loss: 0.01945116371266148\n",
            "Epoch 900, Loss: 0.01592176479358054\n"
          ]
        }
      ],
      "source": [
        "# Treina a rede neural\n",
        "for epoch in range(epochs):\n",
        "    # Passo forward\n",
        "    hidden_layer_activation = np.dot(weights_hidden, inputs)\n",
        "    hidden_layer_output = sigmoid(hidden_layer_activation)\n",
        "\n",
        "    final_output = sigmoid(np.dot(weights_output, hidden_layer_output))\n",
        "\n",
        "    # Calcula o erro\n",
        "    error = expected_output - final_output\n",
        "\n",
        "    # Inicia backpropagation\n",
        "    d_final_output = error * sigmoid_derivative(final_output)\n",
        "\n",
        "    error_hidden_layer = d_final_output.dot(weights_output)\n",
        "    d_hidden_layer = error_hidden_layer * sigmoid_derivative(hidden_layer_output)\n",
        "\n",
        "    # Atualiza os pesos\n",
        "    weights_output += learning_rate * np.outer(d_final_output, hidden_layer_output)\n",
        "    weights_hidden += learning_rate * np.outer(d_hidden_layer, inputs)\n",
        "\n",
        "    # Imprime o erro a cada 10% do número de épocas decorridas\n",
        "    if epoch % (epochs/10) == 0:\n",
        "        loss = np.mean(np.abs(error))\n",
        "        print(f'Epoch {epoch}, Loss: {loss}')\n"
      ]
    },
    {
      "cell_type": "code",
      "execution_count": null,
      "id": "9a2ad89f",
      "metadata": {
        "id": "9a2ad89f",
        "outputId": "14d4ec88-a856-44c4-f0ed-f6f556a18a22"
      },
      "outputs": [
        {
          "name": "stdout",
          "output_type": "stream",
          "text": [
            "\n",
            "\n",
            "Resultados após o treino com 1000 épocas: \n",
            "\n",
            "Pesos finais da camada oculta: \n",
            "[[ 0.78535854 -2.38635463  2.12878488]\n",
            " [ 2.05894493  1.10610087 -4.03536696]\n",
            " [ 0.30605228 -2.2491059   0.41636863]]\n",
            "\n",
            "Pesos finais da camada de saída: \n",
            "[[-2.82735452  2.6021329  -2.62164075]\n",
            " [-0.21514193 -1.04321128  1.55538615]]\n",
            "\n",
            "\n",
            "Valores finais esperados (output): [0.9 0.3]\n",
            "Valores finais obtidos (output): [0.87579945 0.3024596 ]\n",
            "\n",
            "\n"
          ]
        }
      ],
      "source": [
        "# Resultado após o treino\n",
        "\n",
        "print(f\"\\n\\nResultados após o treino com {epochs} épocas: \")\n",
        "print(f\"\\nPesos finais da camada oculta: \\n{weights_hidden}\")\n",
        "print(f\"\\nPesos finais da camada de saída: \\n{weights_output}\")\n",
        "print(f\"\\n\\nValores finais esperados (output): {expected_output}\")\n",
        "print(f\"Valores finais obtidos (output): {final_output}\")\n",
        "print(f\"\\n\")\n"
      ]
    }
  ],
  "metadata": {
    "kernelspec": {
      "display_name": "Python 3",
      "language": "python",
      "name": "python3"
    },
    "language_info": {
      "codemirror_mode": {
        "name": "ipython",
        "version": 3
      },
      "file_extension": ".py",
      "mimetype": "text/x-python",
      "name": "python",
      "nbconvert_exporter": "python",
      "pygments_lexer": "ipython3",
      "version": "3.10.1"
    },
    "colab": {
      "provenance": [],
      "include_colab_link": true
    }
  },
  "nbformat": 4,
  "nbformat_minor": 5
}