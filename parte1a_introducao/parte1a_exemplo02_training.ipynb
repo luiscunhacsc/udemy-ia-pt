{
  "cells": [
    {
      "cell_type": "markdown",
      "metadata": {
        "id": "view-in-github",
        "colab_type": "text"
      },
      "source": [
        "<a href=\"https://colab.research.google.com/github/luiscunhacsc/udemy-ia-pt/blob/main/parte1a_introducao/parte1a_exemplo02_training.ipynb\" target=\"_parent\"><img src=\"https://colab.research.google.com/assets/colab-badge.svg\" alt=\"Open In Colab\"/></a>"
      ]
    },
    {
      "cell_type": "markdown",
      "id": "8718b583",
      "metadata": {
        "id": "8718b583"
      },
      "source": [
        "\n",
        "# Rede Neural com Backpropagation\n",
        "Este notebook contém um exemplo de uma rede neural simples, que é treinada usando o algoritmo backpropagation.\n",
        "As funções de visualização são fornecidas em células separadas para facilitar a navegação e compreensão.\n"
      ]
    },
    {
      "cell_type": "code",
      "execution_count": null,
      "id": "dd4d8e2a",
      "metadata": {
        "id": "dd4d8e2a",
        "outputId": "37cef9ed-a9dd-4f6b-ee4d-7785372a071c"
      },
      "outputs": [
        {
          "name": "stdout",
          "output_type": "stream",
          "text": [
            "Epoch 0, Loss: 0.306532921277229\n",
            "Epoch 100, Loss: 0.07976273745407689\n",
            "Epoch 200, Loss: 0.022893551318966317\n",
            "Epoch 300, Loss: 0.008087388399890877\n",
            "Epoch 400, Loss: 0.003591469033946814\n",
            "Epoch 500, Loss: 0.001903392475856794\n",
            "Epoch 600, Loss: 0.0011481058318983106\n",
            "Epoch 700, Loss: 0.0007586803726333501\n",
            "Epoch 800, Loss: 0.0005335345464266322\n",
            "Epoch 900, Loss: 0.00039120953760583783\n",
            "\\nPesos finais da camada oculta:\n",
            "[[ 0.78535854 -2.38635463  2.12878488]\n",
            " [ 2.05894493  1.10610087 -4.03536696]\n",
            " [ 0.30605228 -2.2491059   0.41636863]]\n",
            "Pesos finais da camada de saída:\n",
            "[[-2.82735452  2.6021329  -2.62164075]\n",
            " [-0.21514193 -1.04321128  1.55538615]]\n",
            "\\Output final após o treino:\n",
            "[0.87579945 0.3024596 ]\n",
            "Output esperado:\n",
            "[0.9 0.3]\n",
            "Erro final:\n",
            "[ 0.02420055 -0.0024596 ]\n"
          ]
        }
      ],
      "source": [
        "\n",
        "# Redes Neurais Artificiais - Backpropagation\n",
        "\n",
        "import numpy as np\n",
        "\n",
        "# Funções de ativação e suas derivadas\n",
        "def sigmoid(x):\n",
        "    return 1 / (1 + np.exp(-x))\n",
        "\n",
        "def sigmoid_derivative(x):\n",
        "    return x * (1 - x)\n",
        "\n",
        "# Inicializações\n",
        "inputs = np.array([0.5, 0.9, -0.3])\n",
        "expected_output = np.array([0.9, 0.3])\n",
        "weights_hidden = np.array([[1.0, -2.0, 2.0], [2.0, 1.0, -4.0], [1.0, -1.0, 0.0]])\n",
        "weights_output = np.array([[-3.0, 1.0, -3.0], [0.0, 1.0, 2.0]])\n",
        "learning_rate = 0.1\n",
        "loss_values = []\n",
        "\n",
        "# Número ajustável de épocas\n",
        "num_epochs = 1000  # Altere este número conforme desejado\n",
        "\n",
        "# Treinamento da rede neural\n",
        "for epoch in range(num_epochs):\n",
        "    # Forward propagation\n",
        "    hidden_layer_activation = np.dot(weights_hidden, inputs)\n",
        "    hidden_layer_output = sigmoid(hidden_layer_activation)\n",
        "    final_output = sigmoid(np.dot(weights_output, hidden_layer_output))\n",
        "\n",
        "    # Backpropagation\n",
        "    error = expected_output - final_output\n",
        "    d_final_output = error * sigmoid_derivative(final_output)\n",
        "    error_hidden_layer = d_final_output.dot(weights_output)\n",
        "    d_hidden_layer = error_hidden_layer * sigmoid_derivative(hidden_layer_output)\n",
        "    weights_output += learning_rate * np.outer(d_final_output, hidden_layer_output)\n",
        "    weights_hidden += learning_rate * np.outer(d_hidden_layer, inputs)\n",
        "\n",
        "    # Cálculo do erro\n",
        "    loss = np.mean(np.square(error))\n",
        "    loss_values.append(loss)\n",
        "\n",
        "    if epoch % (num_epochs//10) == 0:\n",
        "        print(f'Epoch {epoch}, Loss: {loss}')\n",
        "\n",
        "# Imprime os pesos finais após o treino:\n",
        "print('\\\\nPesos finais da camada oculta:')\n",
        "print(weights_hidden)\n",
        "print('Pesos finais da camada de saída:')\n",
        "print(weights_output)\n",
        "\n",
        "print('\\\\Output final após o treino:')\n",
        "print(final_output)\n",
        "print('Output esperado:')\n",
        "print(expected_output)\n",
        "print('Erro final:')\n",
        "print(error)"
      ]
    },
    {
      "cell_type": "code",
      "execution_count": null,
      "id": "3e7c61c7",
      "metadata": {
        "id": "3e7c61c7",
        "outputId": "10a61208-88ef-483c-ce81-1eec2f39cc0b"
      },
      "outputs": [
        {
          "data": {
            "image/png": "[encoded data removed]",
            "text/plain": [
              "<Figure size 720x360 with 1 Axes>"
            ]
          },
          "metadata": {
            "needs_background": "light"
          },
          "output_type": "display_data"
        }
      ],
      "source": [
        "import matplotlib.pyplot as plt\n",
        "\n",
        "# Gráfico do loss ao longo das épocas\n",
        "plt.figure(figsize=(10, 5))\n",
        "plt.plot(loss_values, label='Loss durante o treino')\n",
        "plt.title('Progresso do Loss Durante o Treino')\n",
        "plt.xlabel('Épocas')\n",
        "plt.ylabel('Loss')\n",
        "plt.legend()\n",
        "plt.grid(True)\n",
        "plt.show()\n"
      ]
    }
  ],
  "metadata": {
    "kernelspec": {
      "display_name": "Python 3",
      "language": "python",
      "name": "python3"
    },
    "language_info": {
      "codemirror_mode": {
        "name": "ipython",
        "version": 3
      },
      "file_extension": ".py",
      "mimetype": "text/x-python",
      "name": "python",
      "nbconvert_exporter": "python",
      "pygments_lexer": "ipython3",
      "version": "3.10.1"
    },
    "colab": {
      "provenance": [],
      "include_colab_link": true
    }
  },
  "nbformat": 4,
  "nbformat_minor": 5
}