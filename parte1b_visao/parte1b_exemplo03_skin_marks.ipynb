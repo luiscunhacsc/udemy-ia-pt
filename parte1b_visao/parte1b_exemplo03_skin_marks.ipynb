{
  "cells": [
    {
      "cell_type": "markdown",
      "metadata": {
        "colab_type": "text",
        "id": "view-in-github"
      },
      "source": [
        "<a href=\"https://colab.research.google.com/github/luiscunhacsc/udemy-ia-pt/blob/main/parte1b_visao/parte1b_exemplo03_skin_marks.ipynb\" target=\"_parent\"><img src=\"https://colab.research.google.com/assets/colab-badge.svg\" alt=\"Open In Colab\"/></a>"
      ]
    },
    {
      "cell_type": "markdown",
      "metadata": {
        "id": "UvzkJieZYCto"
      },
      "source": [
        "# Skin lession classifier with batch normalization *and* rate scheduling"
      ]
    },
    {
      "cell_type": "markdown",
      "metadata": {},
      "source": [
        "### Note: you **can interrupt** the training at any time because the model in the next example will be pretrained"
      ]
    },
    {
      "cell_type": "markdown",
      "metadata": {
        "id": "KK-ODiiwYCtp"
      },
      "source": [
        "We'll be using Keras with TensorFlow backend to build a skin lesion classifier. Let's start by importing the necessary libraries and setting up the directory structure."
      ]
    },
    {
      "cell_type": "code",
      "execution_count": 1,
      "metadata": {
        "colab": {
          "base_uri": "https://localhost:8080/"
        },
        "id": "mL4GT4P6YCtq",
        "outputId": "f7d1e913-d148-4f4f-cbc5-a5f6d7749f2b"
      },
      "outputs": [
        {
          "name": "stdout",
          "output_type": "stream",
          "text": [
            "[name: \"/device:CPU:0\"\n",
            "device_type: \"CPU\"\n",
            "memory_limit: 268435456\n",
            "locality {\n",
            "}\n",
            "incarnation: 2916566413412775701\n",
            "xla_global_id: -1\n",
            ", name: \"/device:GPU:0\"\n",
            "device_type: \"GPU\"\n",
            "memory_limit: 14626652160\n",
            "locality {\n",
            "  bus_id: 1\n",
            "  links {\n",
            "  }\n",
            "}\n",
            "incarnation: 13766595386132042031\n",
            "physical_device_desc: \"device: 0, name: Tesla T4, pci bus id: 0000:00:04.0, compute capability: 7.5\"\n",
            "xla_global_id: 416903419\n",
            "]\n"
          ]
        }
      ],
      "source": [
        "#%pip install tensorflow\n",
        "#%pip install keras\n",
        "\n",
        "from tensorflow.python.client import device_lib\n",
        "print(device_lib.list_local_devices())\n"
      ]
    },
    {
      "cell_type": "markdown",
      "metadata": {
        "id": "AGa0wFepYCtq"
      },
      "source": [
        "Next, import the necessary libraries:"
      ]
    },
    {
      "cell_type": "code",
      "execution_count": 2,
      "metadata": {
        "id": "iSgoRn9eYCtq"
      },
      "outputs": [],
      "source": [
        "import os\n",
        "import numpy as np\n",
        "import tensorflow as tf\n",
        "import matplotlib.pyplot as plt\n",
        "\n",
        "from tensorflow.keras.preprocessing.image import ImageDataGenerator\n",
        "from tensorflow.keras.models import Sequential\n",
        "from tensorflow.keras.layers import Conv2D, MaxPooling2D\n",
        "from tensorflow.keras.layers import Activation, Dropout, Flatten, Dense\n",
        "from tensorflow.keras.callbacks import ModelCheckpoint\n",
        "from tensorflow.keras.callbacks import EarlyStopping\n",
        "from tensorflow.keras.callbacks import ReduceLROnPlateau\n",
        "from tensorflow.keras.models import load_model\n",
        "from tensorflow.keras.preprocessing.image import ImageDataGenerator\n",
        "from tensorflow.keras import backend as K\n",
        "from sklearn.model_selection import train_test_split\n"
      ]
    },
    {
      "cell_type": "code",
      "execution_count": 3,
      "metadata": {
        "id": "Zs0pH65jYJhG"
      },
      "outputs": [],
      "source": [
        "\n",
        "\n",
        "import requests\n",
        "\n",
        "# URLs of the file chunks on GitHub\n",
        "urls = [\n",
        "    \"https://github.com/luiscunhacsc/course_dl_datasets/blob/main/SkinDataSet.zip.001?raw=true\",\n",
        "    \"https://github.com/luiscunhacsc/course_dl_datasets/blob/main/SkinDataSet.zip.002?raw=true\",\n",
        "    \"https://github.com/luiscunhacsc/course_dl_datasets/blob/main/SkinDataSet.zip.003?raw=true\",\n",
        "    \"https://github.com/luiscunhacsc/course_dl_datasets/blob/main/SkinDataSet.zip.004?raw=true\",\n",
        "    \"https://github.com/luiscunhacsc/course_dl_datasets/blob/main/SkinDataSet.zip.005?raw=true\",\n",
        "    \"https://github.com/luiscunhacsc/course_dl_datasets/blob/main/SkinDataSet.zip.006?raw=true\",\n",
        "    \"https://github.com/luiscunhacsc/course_dl_datasets/blob/main/SkinDataSet.zip.007?raw=true\",\n",
        "]\n",
        "\n",
        "# Download and combine the chunks\n",
        "with open('combined_file.zip', 'wb') as output_file:\n",
        "    for url in urls:\n",
        "        response = requests.get(url, allow_redirects=True)\n",
        "        output_file.write(response.content)\n",
        "\n",
        "\n",
        "\n",
        "\n",
        "\n",
        "\n",
        "!unzip -q combined_file.zip\n",
        "!rm combined_file.zip"
      ]
    },
    {
      "cell_type": "markdown",
      "metadata": {
        "id": "8yJw3ItXYCtr"
      },
      "source": [
        "Now, let's define some parameters and directory paths:"
      ]
    },
    {
      "cell_type": "code",
      "execution_count": 4,
      "metadata": {
        "id": "KpzL6m-8YCtr"
      },
      "outputs": [],
      "source": [
        "img_width, img_height = 224, 224\n",
        "train_data_dir = 'skin_train_dataset'\n",
        "test_data_dir = 'skin_test_dataset'\n",
        "nb_train_samples = 3297\n",
        "epochs = 50\n",
        "batch_size = 32\n"
      ]
    },
    {
      "cell_type": "code",
      "execution_count": 5,
      "metadata": {
        "id": "QV3U9-i1YCtr"
      },
      "outputs": [],
      "source": [
        "#This code is only needed if the images are all in the same folder\n",
        "#(i.e. not divided into \"benign\" and \"malignant\" subfolders)\n",
        "\n",
        "#import os\n",
        "#import shutil\n",
        "\n",
        "#src_dir = 'skin_dataset_26mar2023'\n",
        "#benign_dir = os.path.join(src_dir, 'benign')\n",
        "#malignant_dir = os.path.join(src_dir, 'malignant')\n",
        "\n",
        "# Create the subfolders if they don't exist\n",
        "#os.makedirs(benign_dir, exist_ok=True)\n",
        "#os.makedirs(malignant_dir, exist_ok=True)\n",
        "\n",
        "# Move the benign and malignant images to their respective subfolders\n",
        "#for filename in os.listdir(src_dir):\n",
        "#    src_path = os.path.join(src_dir, filename)\n",
        "#\n",
        "#    if os.path.isfile(src_path):\n",
        "#        if filename.startswith('benign'):\n",
        "#            shutil.move(src_path, os.path.join(benign_dir, filename))\n",
        "#        elif filename.startswith('malignant'):\n",
        "#            shutil.move(src_path, os.path.join(malignant_dir, filename))\n",
        "\n",
        "\n",
        "#src_dir = 'test_dataset_26mar2023'\n",
        "#benign_dir = os.path.join(src_dir, 'benign')\n",
        "#malignant_dir = os.path.join(src_dir, 'malignant')\n",
        "\n",
        "# Create the subfolders if they don't exist\n",
        "#os.makedirs(benign_dir, exist_ok=True)\n",
        "#os.makedirs(malignant_dir, exist_ok=True)\n",
        "\n",
        "# Move the benign and malignant images to their respective subfolders\n",
        "#for filename in os.listdir(src_dir):\n",
        "#    src_path = os.path.join(src_dir, filename)\n",
        "#\n",
        "#    if os.path.isfile(src_path):\n",
        "#        if filename.startswith('benign'):\n",
        "#            shutil.move(src_path, os.path.join(benign_dir, filename))\n",
        "#        elif filename.startswith('malignant'):\n",
        "#            shutil.move(src_path, os.path.join(malignant_dir, filename))\n"
      ]
    },
    {
      "cell_type": "markdown",
      "metadata": {
        "id": "eBIAh17hYCtr"
      },
      "source": [
        "Depending on the image format, you may need to set the input shape for the model:"
      ]
    },
    {
      "cell_type": "code",
      "execution_count": 6,
      "metadata": {
        "id": "AM5sOQL0YCts"
      },
      "outputs": [],
      "source": [
        "if K.image_data_format() == 'channels_first':\n",
        "    input_shape = (3, img_width, img_height)\n",
        "else:\n",
        "    input_shape = (img_width, img_height, 3)"
      ]
    },
    {
      "cell_type": "markdown",
      "metadata": {
        "id": "jHaGA4MtYCts"
      },
      "source": [
        "Model architecture using the Keras functional API:"
      ]
    },
    {
      "cell_type": "markdown",
      "metadata": {
        "id": "xyzpXD6NYCts"
      },
      "source": [
        "Test of updated model with more convolutional layers and batch normalization:"
      ]
    },
    {
      "cell_type": "code",
      "execution_count": 7,
      "metadata": {
        "id": "_ejWkUP_YCts"
      },
      "outputs": [],
      "source": [
        "from tensorflow.keras.layers import Input\n",
        "from tensorflow.keras.models import Model\n",
        "from tensorflow.keras.layers import BatchNormalization\n",
        "\n",
        "# Define the input layer\n",
        "input_layer = Input(shape=input_shape)\n",
        "\n",
        "# Create the convolutional and pooling layers\n",
        "conv1 = Conv2D(32, (3, 3), activation='relu')(input_layer)\n",
        "bn1 = BatchNormalization()(conv1)\n",
        "pool1 = MaxPooling2D(pool_size=(2, 2))(bn1)\n",
        "\n",
        "conv2 = Conv2D(64, (3, 3), activation='relu')(pool1)\n",
        "bn2 = BatchNormalization()(conv2)\n",
        "pool2 = MaxPooling2D(pool_size=(2, 2))(bn2)\n",
        "\n",
        "conv3 = Conv2D(128, (3, 3), activation='relu')(pool2)\n",
        "bn3 = BatchNormalization()(conv3)\n",
        "pool3 = MaxPooling2D(pool_size=(2, 2))(bn3)\n",
        "\n",
        "conv4 = Conv2D(256, (3, 3), activation='relu')(pool3)\n",
        "bn4 = BatchNormalization()(conv4)\n",
        "pool4 = MaxPooling2D(pool_size=(2, 2))(bn4)\n",
        "\n",
        "conv5 = Conv2D(512, (3, 3), activation='relu')(pool4)\n",
        "bn5 = BatchNormalization()(conv5)\n",
        "pool5 = MaxPooling2D(pool_size=(2, 2))(bn5)\n",
        "\n",
        "# Flatten the output of the last pooling layer\n",
        "flat = Flatten()(pool5)\n",
        "\n",
        "# Create the dense layers\n",
        "dense1 = Dense(64, activation='relu')(flat)\n",
        "dropout = Dropout(0.5)(dense1)\n",
        "output_layer = Dense(1, activation='sigmoid')(dropout)\n",
        "\n",
        "# Create the model\n",
        "model = Model(inputs=input_layer, outputs=output_layer)\n",
        "# Compile the model\n",
        "model.compile(loss='binary_crossentropy',\n",
        "              optimizer='adam',\n",
        "              metrics=['accuracy'])\n"
      ]
    },
    {
      "cell_type": "markdown",
      "metadata": {
        "id": "xb9Zll27YCts"
      },
      "source": [
        "Training, validation and test data sets generators\n",
        "Note that you can control for **data augmentation** usage\n",
        "Data augmentation is only done in the training data set\n",
        "You control that option by setting __use_data_augmentation__ to True or False"
      ]
    },
    {
      "cell_type": "code",
      "execution_count": 8,
      "metadata": {
        "colab": {
          "base_uri": "https://localhost:8080/"
        },
        "id": "efxRyhYGYCtt",
        "outputId": "3a105b23-8318-4c81-cf30-1ddda18b8f55"
      },
      "outputs": [
        {
          "name": "stdout",
          "output_type": "stream",
          "text": [
            "Using Directories:\n",
            "Train: skin_train_dataset\n",
            "Test: skin_test_dataset\n",
            "Found 2478 images belonging to 2 classes.\n",
            "Found 619 images belonging to 2 classes.\n",
            "Found 200 images belonging to 2 classes.\n"
          ]
        }
      ],
      "source": [
        "print(\"Using Directories:\")\n",
        "print(\"Train:\", train_data_dir)\n",
        "print(\"Test:\", test_data_dir)\n",
        "\n",
        "use_data_augmentation = True\n",
        "\n",
        "if not use_data_augmentation:\n",
        "    train_datagen = ImageDataGenerator(rescale=1. / 255, validation_split=0.2)\n",
        "else:\n",
        "    train_datagen = ImageDataGenerator(\n",
        "        rescale=1. / 255,\n",
        "        rotation_range=40,\n",
        "        width_shift_range=0.2,\n",
        "        height_shift_range=0.2,\n",
        "        shear_range=0.2,\n",
        "        zoom_range=0.2,\n",
        "        horizontal_flip=True,\n",
        "        brightness_range=[0.5, 1.5],\n",
        "        channel_shift_range=20,\n",
        "        fill_mode='nearest',\n",
        "        validation_split=0.2)\n",
        "\n",
        "# Training generator\n",
        "train_generator = train_datagen.flow_from_directory(\n",
        "    train_data_dir,\n",
        "    target_size=(img_width, img_height),\n",
        "    batch_size=batch_size,\n",
        "    class_mode='binary',\n",
        "    subset='training')\n",
        "\n",
        "# Validation generator (augmented)\n",
        "validation_datagen = train_datagen\n",
        "\n",
        "validation_generator = validation_datagen.flow_from_directory(\n",
        "    train_data_dir,\n",
        "    target_size=(img_width, img_height),\n",
        "    batch_size=batch_size,\n",
        "    class_mode='binary',\n",
        "    subset='validation')\n",
        "\n",
        "# Test data generator (non-augmented)\n",
        "test_datagen = ImageDataGenerator(rescale=1. / 255)\n",
        "\n",
        "test_generator = test_datagen.flow_from_directory(\n",
        "    test_data_dir,\n",
        "    target_size=(img_width,img_height),\n",
        "    batch_size=batch_size,\n",
        "    class_mode='binary',\n",
        "    shuffle=False)\n"
      ]
    },
    {
      "cell_type": "markdown",
      "metadata": {
        "id": "oqSd7r92YCtt"
      },
      "source": [
        "Evaluate the model on the test set:"
      ]
    },
    {
      "cell_type": "code",
      "execution_count": 9,
      "metadata": {
        "colab": {
          "base_uri": "https://localhost:8080/"
        },
        "id": "WOv3-mC2YCtu",
        "outputId": "d1f7b257-f5a7-4f8e-b137-420c063bce7c"
      },
      "outputs": [
        {
          "name": "stdout",
          "output_type": "stream",
          "text": [
            "7/7 [==============================] - 4s 97ms/step - loss: 0.6927 - accuracy: 0.5000\n",
            "Test accuracy: 50.00%\n"
          ]
        }
      ],
      "source": [
        "test_scores = model.evaluate(test_generator, verbose=1)\n",
        "print(\"Test accuracy: %.2f%%\" % (test_scores[1] * 100))\n"
      ]
    },
    {
      "cell_type": "markdown",
      "metadata": {
        "id": "skrhCYqSYCtu"
      },
      "source": [
        "Create a ModelCheckpoint instance and specify the file path, the metric to monitor, and the mode (maximize or minimize the metric):\n",
        "\n",
        "This code will save the best model based on the validation accuracy during training.\n",
        "The save_best_only=True argument ensures that only the model with the best performance so far is saved.\n",
        "Note that the file \"best_skin_lesion_classifier.h5\" will be overwritten whenever a better model is found during training.\n",
        "The verbose=1 argument provides updates whenever a new best model is saved."
      ]
    },
    {
      "cell_type": "code",
      "execution_count": 10,
      "metadata": {
        "id": "ODsKbGiCYCtu"
      },
      "outputs": [],
      "source": [
        "checkpoint_filepath = 'best_skin_lesion_classifier.h5'\n",
        "model_checkpoint = ModelCheckpoint(\n",
        "    filepath=checkpoint_filepath,\n",
        "    monitor='val_accuracy',\n",
        "    mode='max',\n",
        "    save_best_only=True,\n",
        "    verbose=1)"
      ]
    },
    {
      "cell_type": "markdown",
      "metadata": {
        "id": "ga_v2_73YCtu"
      },
      "source": [
        "This callback will monitor a specified metric (usually validation loss or accuracy) and stop training when the metric\n",
        "does not improve for a given number of consecutive epochs. This helps to avoid overfitting and reduce training time."
      ]
    },
    {
      "cell_type": "code",
      "execution_count": 11,
      "metadata": {
        "id": "qNqrm963YCtu"
      },
      "outputs": [],
      "source": [
        "early_stopping = EarlyStopping(monitor='val_loss', patience=3, mode='min', verbose=1)\n"
      ]
    },
    {
      "cell_type": "markdown",
      "metadata": {
        "id": "tnJm9VmUYCtv"
      },
      "source": [
        "Add learning rate scheduling (note that the patience for early stopping has to be changed in a way compatible to the patience in the LRS callback):"
      ]
    },
    {
      "cell_type": "code",
      "execution_count": 12,
      "metadata": {
        "id": "5UPnEfa9YCtv"
      },
      "outputs": [],
      "source": [
        "reduce_lr = ReduceLROnPlateau(monitor='val_loss', factor=0.1, patience=2, verbose=1, min_lr=1e-6)\n"
      ]
    },
    {
      "cell_type": "markdown",
      "metadata": {
        "id": "-IRQ9-LVYCtv"
      },
      "source": [
        "Train the model using the fit method and retain the training history:"
      ]
    },
    {
      "cell_type": "code",
      "execution_count": 13,
      "metadata": {
        "colab": {
          "base_uri": "https://localhost:8080/"
        },
        "id": "63NKS-XbYCtv",
        "outputId": "24fb8441-511e-4a79-a816-09d52dea2315"
      },
      "outputs": [
        {
          "name": "stdout",
          "output_type": "stream",
          "text": [
            "Epoch 1/50\n",
            "77/77 [==============================] - ETA: 0s - loss: 1.3344 - accuracy: 0.6566\n",
            "Epoch 1: val_accuracy improved from -inf to 0.54770, saving model to best_skin_lesion_classifier.h5\n",
            "77/77 [==============================] - 58s 638ms/step - loss: 1.3344 - accuracy: 0.6566 - val_loss: 0.7938 - val_accuracy: 0.5477 - lr: 0.0010\n",
            "Epoch 2/50\n"
          ]
        },
        {
          "name": "stderr",
          "output_type": "stream",
          "text": [
            "/usr/local/lib/python3.10/dist-packages/keras/src/engine/training.py:3103: UserWarning: You are saving your model as an HDF5 file via `model.save()`. This file format is considered legacy. We recommend using instead the native Keras format, e.g. `model.save('my_model.keras')`.\n",
            "  saving_api.save_model(\n"
          ]
        },
        {
          "name": "stdout",
          "output_type": "stream",
          "text": [
            "77/77 [==============================] - ETA: 0s - loss: 0.7110 - accuracy: 0.7069\n",
            "Epoch 2: val_accuracy improved from 0.54770 to 0.54934, saving model to best_skin_lesion_classifier.h5\n",
            "77/77 [==============================] - 49s 637ms/step - loss: 0.7110 - accuracy: 0.7069 - val_loss: 0.8674 - val_accuracy: 0.5493 - lr: 0.0010\n",
            "Epoch 3/50\n",
            "77/77 [==============================] - ETA: 0s - loss: 0.5410 - accuracy: 0.7506\n",
            "Epoch 3: val_accuracy did not improve from 0.54934\n",
            "77/77 [==============================] - 49s 644ms/step - loss: 0.5410 - accuracy: 0.7506 - val_loss: 0.7557 - val_accuracy: 0.5477 - lr: 0.0010\n",
            "Epoch 4/50\n",
            "77/77 [==============================] - ETA: 0s - loss: 0.5240 - accuracy: 0.7539\n",
            "Epoch 4: val_accuracy improved from 0.54934 to 0.74836, saving model to best_skin_lesion_classifier.h5\n",
            "77/77 [==============================] - 48s 629ms/step - loss: 0.5240 - accuracy: 0.7539 - val_loss: 0.5481 - val_accuracy: 0.7484 - lr: 0.0010\n",
            "Epoch 5/50\n",
            "77/77 [==============================] - ETA: 0s - loss: 0.5083 - accuracy: 0.7498\n",
            "Epoch 5: val_accuracy did not improve from 0.74836\n",
            "77/77 [==============================] - 46s 600ms/step - loss: 0.5083 - accuracy: 0.7498 - val_loss: 1.3200 - val_accuracy: 0.7039 - lr: 0.0010\n",
            "Epoch 6/50\n",
            "77/77 [==============================] - ETA: 0s - loss: 0.5152 - accuracy: 0.7453\n",
            "Epoch 6: val_accuracy improved from 0.74836 to 0.80428, saving model to best_skin_lesion_classifier.h5\n",
            "77/77 [==============================] - 48s 618ms/step - loss: 0.5152 - accuracy: 0.7453 - val_loss: 0.4014 - val_accuracy: 0.8043 - lr: 0.0010\n",
            "Epoch 7/50\n",
            "77/77 [==============================] - ETA: 0s - loss: 0.4974 - accuracy: 0.7608\n",
            "Epoch 7: val_accuracy did not improve from 0.80428\n",
            "77/77 [==============================] - 47s 618ms/step - loss: 0.4974 - accuracy: 0.7608 - val_loss: 0.4606 - val_accuracy: 0.7747 - lr: 0.0010\n",
            "Epoch 8/50\n",
            "77/77 [==============================] - ETA: 0s - loss: 0.4679 - accuracy: 0.7792\n",
            "Epoch 8: val_accuracy did not improve from 0.80428\n",
            "77/77 [==============================] - 48s 626ms/step - loss: 0.4679 - accuracy: 0.7792 - val_loss: 0.5713 - val_accuracy: 0.7105 - lr: 0.0010\n",
            "Epoch 9/50\n",
            "77/77 [==============================] - ETA: 0s - loss: 0.4408 - accuracy: 0.7903\n",
            "Epoch 9: val_accuracy did not improve from 0.80428\n",
            "\n",
            "Epoch 9: ReduceLROnPlateau reducing learning rate to 0.00010000000474974513.\n",
            "77/77 [==============================] - 47s 604ms/step - loss: 0.4408 - accuracy: 0.7903 - val_loss: 0.4489 - val_accuracy: 0.7697 - lr: 0.0010\n",
            "Epoch 10/50\n",
            "77/77 [==============================] - ETA: 0s - loss: 0.4248 - accuracy: 0.7809\n",
            "Epoch 10: val_accuracy did not improve from 0.80428\n",
            "77/77 [==============================] - 48s 625ms/step - loss: 0.4248 - accuracy: 0.7809 - val_loss: 0.4036 - val_accuracy: 0.7977 - lr: 1.0000e-04\n",
            "Epoch 11/50\n",
            "77/77 [==============================] - ETA: 0s - loss: 0.4202 - accuracy: 0.7935\n",
            "Epoch 11: val_accuracy improved from 0.80428 to 0.81908, saving model to best_skin_lesion_classifier.h5\n",
            "77/77 [==============================] - 47s 617ms/step - loss: 0.4202 - accuracy: 0.7935 - val_loss: 0.3689 - val_accuracy: 0.8191 - lr: 1.0000e-04\n",
            "Epoch 12/50\n",
            "77/77 [==============================] - ETA: 0s - loss: 0.4179 - accuracy: 0.7980\n",
            "Epoch 12: val_accuracy improved from 0.81908 to 0.82237, saving model to best_skin_lesion_classifier.h5\n",
            "77/77 [==============================] - 47s 608ms/step - loss: 0.4179 - accuracy: 0.7980 - val_loss: 0.3410 - val_accuracy: 0.8224 - lr: 1.0000e-04\n",
            "Epoch 13/50\n",
            "77/77 [==============================] - ETA: 0s - loss: 0.4052 - accuracy: 0.8054\n",
            "Epoch 13: val_accuracy did not improve from 0.82237\n",
            "77/77 [==============================] - 48s 627ms/step - loss: 0.4052 - accuracy: 0.8054 - val_loss: 0.3644 - val_accuracy: 0.8174 - lr: 1.0000e-04\n",
            "Epoch 14/50\n",
            "77/77 [==============================] - ETA: 0s - loss: 0.4021 - accuracy: 0.8254\n",
            "Epoch 14: val_accuracy improved from 0.82237 to 0.84211, saving model to best_skin_lesion_classifier.h5\n",
            "77/77 [==============================] - 49s 632ms/step - loss: 0.4021 - accuracy: 0.8254 - val_loss: 0.3469 - val_accuracy: 0.8421 - lr: 1.0000e-04\n",
            "Epoch 15/50\n",
            "77/77 [==============================] - ETA: 0s - loss: 0.3938 - accuracy: 0.8201\n",
            "Epoch 15: val_accuracy did not improve from 0.84211\n",
            "77/77 [==============================] - 48s 624ms/step - loss: 0.3938 - accuracy: 0.8201 - val_loss: 0.3303 - val_accuracy: 0.8388 - lr: 1.0000e-04\n",
            "Epoch 16/50\n",
            "77/77 [==============================] - ETA: 0s - loss: 0.3975 - accuracy: 0.8083\n",
            "Epoch 16: val_accuracy improved from 0.84211 to 0.85855, saving model to best_skin_lesion_classifier.h5\n",
            "77/77 [==============================] - 47s 616ms/step - loss: 0.3975 - accuracy: 0.8083 - val_loss: 0.3171 - val_accuracy: 0.8586 - lr: 1.0000e-04\n",
            "Epoch 17/50\n",
            "77/77 [==============================] - ETA: 0s - loss: 0.3865 - accuracy: 0.8128\n",
            "Epoch 17: val_accuracy did not improve from 0.85855\n",
            "77/77 [==============================] - 48s 621ms/step - loss: 0.3865 - accuracy: 0.8128 - val_loss: 0.3348 - val_accuracy: 0.8224 - lr: 1.0000e-04\n",
            "Epoch 18/50\n",
            "77/77 [==============================] - ETA: 0s - loss: 0.3903 - accuracy: 0.8189\n",
            "Epoch 18: val_accuracy did not improve from 0.85855\n",
            "77/77 [==============================] - 48s 629ms/step - loss: 0.3903 - accuracy: 0.8189 - val_loss: 0.3287 - val_accuracy: 0.8405 - lr: 1.0000e-04\n",
            "Epoch 19/50\n",
            "77/77 [==============================] - ETA: 0s - loss: 0.3976 - accuracy: 0.8078\n",
            "Epoch 19: val_accuracy did not improve from 0.85855\n",
            "\n",
            "Epoch 19: ReduceLROnPlateau reducing learning rate to 1.0000000474974514e-05.\n",
            "77/77 [==============================] - 47s 608ms/step - loss: 0.3976 - accuracy: 0.8078 - val_loss: 0.3501 - val_accuracy: 0.8355 - lr: 1.0000e-04\n",
            "Epoch 20/50\n",
            "77/77 [==============================] - ETA: 0s - loss: 0.3963 - accuracy: 0.8070\n",
            "Epoch 20: val_accuracy did not improve from 0.85855\n",
            "77/77 [==============================] - 50s 651ms/step - loss: 0.3963 - accuracy: 0.8070 - val_loss: 0.3318 - val_accuracy: 0.8405 - lr: 1.0000e-05\n",
            "Epoch 21/50\n",
            "77/77 [==============================] - ETA: 0s - loss: 0.3926 - accuracy: 0.8197\n",
            "Epoch 21: val_accuracy did not improve from 0.85855\n",
            "77/77 [==============================] - 50s 653ms/step - loss: 0.3926 - accuracy: 0.8197 - val_loss: 0.3512 - val_accuracy: 0.8454 - lr: 1.0000e-05\n",
            "Epoch 22/50\n",
            "77/77 [==============================] - ETA: 0s - loss: 0.3901 - accuracy: 0.8095\n",
            "Epoch 22: val_accuracy did not improve from 0.85855\n",
            "\n",
            "Epoch 22: ReduceLROnPlateau reducing learning rate to 1.0000000656873453e-06.\n",
            "77/77 [==============================] - 49s 637ms/step - loss: 0.3901 - accuracy: 0.8095 - val_loss: 0.3371 - val_accuracy: 0.8405 - lr: 1.0000e-05\n",
            "Epoch 23/50\n",
            "77/77 [==============================] - ETA: 0s - loss: 0.3927 - accuracy: 0.8054\n",
            "Epoch 23: val_accuracy did not improve from 0.85855\n",
            "77/77 [==============================] - 50s 647ms/step - loss: 0.3927 - accuracy: 0.8054 - val_loss: 0.3485 - val_accuracy: 0.8355 - lr: 1.0000e-06\n",
            "Epoch 24/50\n",
            "77/77 [==============================] - ETA: 0s - loss: 0.3832 - accuracy: 0.8238\n",
            "Epoch 24: val_accuracy did not improve from 0.85855\n",
            "77/77 [==============================] - 50s 651ms/step - loss: 0.3832 - accuracy: 0.8238 - val_loss: 0.3415 - val_accuracy: 0.8306 - lr: 1.0000e-06\n",
            "Epoch 25/50\n",
            "77/77 [==============================] - ETA: 0s - loss: 0.3803 - accuracy: 0.8177\n",
            "Epoch 25: val_accuracy did not improve from 0.85855\n",
            "\n",
            "Epoch 25: ReduceLROnPlateau reducing learning rate to 1e-06.\n",
            "77/77 [==============================] - 47s 613ms/step - loss: 0.3803 - accuracy: 0.8177 - val_loss: 0.3414 - val_accuracy: 0.8388 - lr: 1.0000e-06\n",
            "Epoch 26/50\n",
            "77/77 [==============================] - ETA: 0s - loss: 0.3811 - accuracy: 0.8156\n",
            "Epoch 26: val_accuracy did not improve from 0.85855\n",
            "77/77 [==============================] - 49s 641ms/step - loss: 0.3811 - accuracy: 0.8156 - val_loss: 0.3394 - val_accuracy: 0.8355 - lr: 1.0000e-06\n",
            "Epoch 26: early stopping\n"
          ]
        }
      ],
      "source": [
        "steps_per_epoch = train_generator.samples // train_generator.batch_size\n",
        "validation_steps = validation_generator.samples // validation_generator.batch_size\n",
        "\n",
        "history = model.fit(\n",
        "    train_generator,\n",
        "    steps_per_epoch=steps_per_epoch,\n",
        "    epochs=epochs,\n",
        "    validation_data=validation_generator,\n",
        "    validation_steps=validation_steps,\n",
        "    callbacks=[model_checkpoint, early_stopping, reduce_lr])\n"
      ]
    },
    {
      "cell_type": "markdown",
      "metadata": {
        "id": "u4Bm5QYOYCtv"
      },
      "source": [
        "Evaluate the model on the test set:"
      ]
    },
    {
      "cell_type": "code",
      "execution_count": 14,
      "metadata": {
        "colab": {
          "base_uri": "https://localhost:8080/"
        },
        "id": "SjhsQdydYCtv",
        "outputId": "5d57baef-de8c-4b6a-e7a7-75ad21933601"
      },
      "outputs": [
        {
          "name": "stdout",
          "output_type": "stream",
          "text": [
            "7/7 [==============================] - 1s 62ms/step - loss: 0.3228 - accuracy: 0.8650\n",
            "Test accuracy: 86.50%\n"
          ]
        }
      ],
      "source": [
        "test_scores = model.evaluate(test_generator, verbose=1)\n",
        "print(\"Test accuracy: %.2f%%\" % (test_scores[1] * 100))\n"
      ]
    },
    {
      "cell_type": "markdown",
      "metadata": {
        "id": "Te1iHldqYCtv"
      },
      "source": [
        "Evaluate the model on the validation and test sets:"
      ]
    },
    {
      "cell_type": "code",
      "execution_count": 15,
      "metadata": {
        "colab": {
          "base_uri": "https://localhost:8080/"
        },
        "id": "4Ly32h_1YCtv",
        "outputId": "b1ef44e0-3fe9-4ff3-ec2b-553f62119417"
      },
      "outputs": [
        {
          "name": "stdout",
          "output_type": "stream",
          "text": [
            "20/20 [==============================] - 11s 548ms/step - loss: 0.3476 - accuracy: 0.8320\n",
            "Validation accuracy: 83.20%\n",
            "7/7 [==============================] - 1s 64ms/step - loss: 0.3228 - accuracy: 0.8650\n",
            "Test accuracy: 86.50%\n"
          ]
        }
      ],
      "source": [
        "# Validation set\n",
        "validation_scores = model.evaluate(validation_generator, verbose=1)\n",
        "print(\"Validation accuracy: %.2f%%\" % (validation_scores[1] * 100))\n",
        "\n",
        "# Test set\n",
        "test_scores = model.evaluate(test_generator, verbose=1)\n",
        "print(\"Test accuracy: %.2f%%\" % (test_scores[1] * 100))"
      ]
    },
    {
      "cell_type": "markdown",
      "metadata": {
        "id": "pjuyFtmjYCtw"
      },
      "source": [
        "Make predictions and compare them to the true labels:"
      ]
    },
    {
      "cell_type": "code",
      "execution_count": 16,
      "metadata": {
        "colab": {
          "base_uri": "https://localhost:8080/"
        },
        "id": "4OksP2syYCtw",
        "outputId": "4597c414-e454-439d-8121-ffdf6da64f3a"
      },
      "outputs": [
        {
          "name": "stdout",
          "output_type": "stream",
          "text": [
            "7/7 [==============================] - 1s 62ms/step\n"
          ]
        }
      ],
      "source": [
        "# Predictions for test set\n",
        "predictions = model.predict(test_generator)\n",
        "predicted_classes = np.round(predictions)  # Round predictions to obtain class labels\n",
        "\n",
        "# Get true labels\n",
        "true_classes = test_generator.classes\n",
        "\n",
        "# Compare predicted_classes and\n"
      ]
    },
    {
      "cell_type": "markdown",
      "metadata": {
        "id": "SFUXHwyvYCtw"
      },
      "source": [
        "With this implementation, you can train your model, and the best version will be saved based on the highest validation accuracy observed during training.\n",
        "Once the training is finished, you can load the best model using the following code:"
      ]
    },
    {
      "cell_type": "code",
      "execution_count": 17,
      "metadata": {
        "id": "qei9eWIKYCtw"
      },
      "outputs": [],
      "source": [
        "from tensorflow.keras.models import load_model\n",
        "\n",
        "best_model = load_model('best_skin_lesion_classifier.h5')\n"
      ]
    },
    {
      "cell_type": "markdown",
      "metadata": {
        "id": "Sje0BZNGYCtw"
      },
      "source": [
        "You can then evaluate the performance of the best model on the test set:"
      ]
    },
    {
      "cell_type": "code",
      "execution_count": 18,
      "metadata": {
        "colab": {
          "base_uri": "https://localhost:8080/"
        },
        "id": "a-zbc_MsYCtw",
        "outputId": "fe1ff52d-3538-4ed5-acf1-b845e5e3a656"
      },
      "outputs": [
        {
          "name": "stdout",
          "output_type": "stream",
          "text": [
            "7/7 [==============================] - 1s 61ms/step - loss: 0.3193 - accuracy: 0.8700\n",
            "Test accuracy: 87.00%\n"
          ]
        }
      ],
      "source": [
        "test_scores = best_model.evaluate(test_generator, verbose=1)\n",
        "print(\"Test accuracy: %.2f%%\" % (test_scores[1] * 100))\n"
      ]
    },
    {
      "cell_type": "markdown",
      "metadata": {
        "id": "-Zp5AF19YCtw"
      },
      "source": [
        "Plot training history:"
      ]
    },
    {
      "cell_type": "code",
      "execution_count": 19,
      "metadata": {
        "colab": {
          "base_uri": "https://localhost:8080/",
          "height": 947
        },
        "id": "FotE_m1JYCtw",
        "outputId": "8ab4ef45-51a5-4049-ffb7-d4a4d1977f8a"
      },
      "outputs": [
        {
          "data": {
            "image/png": "[encoded data removed]",
            "text/plain": [
              "<Figure size 640x480 with 1 Axes>"
            ]
          },
          "metadata": {},
          "output_type": "display_data"
        },
        {
          "data": {
            "image/png": "[encoded data removed]",
            "text/plain": [
              "<Figure size 640x480 with 1 Axes>"
            ]
          },
          "metadata": {},
          "output_type": "display_data"
        }
      ],
      "source": [
        "import matplotlib.pyplot as plt\n",
        "\n",
        "def plot_training_history(history):\n",
        "    # Plot training & validation accuracy values\n",
        "    plt.figure()\n",
        "    plt.plot(history.history['accuracy'])\n",
        "    plt.plot(history.history['val_accuracy'])\n",
        "    plt.title('Model accuracy')\n",
        "    plt.ylabel('Accuracy', color='white')\n",
        "    plt.xlabel('Epoch', color='white')\n",
        "    plt.legend(['Train', 'Validation'], loc='upper left')\n",
        "    plt.tick_params(axis='both', colors='white')  # Added this line\n",
        "    plt.show()\n",
        "\n",
        "    # Plot training & validation loss values\n",
        "    plt.figure()\n",
        "    plt.plot(history.history['loss'])\n",
        "    plt.plot(history.history['val_loss'])\n",
        "    plt.title('Model loss')\n",
        "    plt.ylabel('Loss', color='white')\n",
        "    plt.xlabel('Epoch', color='white')\n",
        "    plt.legend(['Train', 'Validation'], loc='upper left')\n",
        "    plt.tick_params(axis='both', colors='white')  # Added this line\n",
        "    plt.show()\n",
        "\n",
        "plot_training_history(history)\n",
        "\n"
      ]
    }
  ],
  "metadata": {
    "accelerator": "GPU",
    "colab": {
      "gpuType": "T4",
      "include_colab_link": true,
      "provenance": []
    },
    "kernelspec": {
      "display_name": "Python 3",
      "name": "python3"
    },
    "language_info": {
      "codemirror_mode": {
        "name": "ipython",
        "version": 3
      },
      "file_extension": ".py",
      "mimetype": "text/x-python",
      "name": "python",
      "nbconvert_exporter": "python",
      "pygments_lexer": "ipython3",
      "version": "3.10.1"
    },
    "orig_nbformat": 4
  },
  "nbformat": 4,
  "nbformat_minor": 0
}
